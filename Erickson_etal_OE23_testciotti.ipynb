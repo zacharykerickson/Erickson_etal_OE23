{
 "cells": [
  {
   "cell_type": "markdown",
   "metadata": {},
   "source": [
    "## Import packages"
   ]
  },
  {
   "cell_type": "code",
   "execution_count": 1,
   "metadata": {},
   "outputs": [],
   "source": [
    "import numpy as np\n",
    "from matplotlib import pyplot as plt, ticker as mticker\n",
    "from matplotlib.patches import Ellipse\n",
    "from mpl_toolkits.basemap import Basemap\n",
    "import os\n",
    "os.chdir('../pygiop/')\n",
    "import pandas as pd\n",
    "from scripts import pwIOP, phytoA, getChlor, getGiop"
   ]
  },
  {
   "cell_type": "code",
   "execution_count": 2,
   "metadata": {},
   "outputs": [],
   "source": [
    "DATA_FOLDER = '/Users/erickson/Documents/Postdoc/Research/Bayes_GIOP/Valente_dataset/'"
   ]
  },
  {
   "cell_type": "markdown",
   "metadata": {},
   "source": [
    "## Load data"
   ]
  },
  {
   "cell_type": "code",
   "execution_count": 3,
   "metadata": {},
   "outputs": [
    {
     "name": "stderr",
     "output_type": "stream",
     "text": [
      "/Users/erickson/.conda/envs/zke/lib/python3.9/site-packages/IPython/core/interactiveshell.py:3441: DtypeWarning: Columns (354,355,356) have mixed types.Specify dtype option on import or set low_memory=False.\n",
      "  exec(code_obj, self.user_global_ns, self.user_ns)\n"
     ]
    }
   ],
   "source": [
    "fn_rrs = DATA_FOLDER+'insitudb_rrs_satbands6.csv'\n",
    "db_rrs = pd.read_csv(fn_rrs)\n",
    "fn_iop = DATA_FOLDER+'insitudb_iopskdtsm_satbands6_2019-06_corrected.csv'\n",
    "db_iop = pd.read_csv(fn_iop)\n",
    "fn_chl = DATA_FOLDER+'insitudb_chla.csv'\n",
    "db_chl = pd.read_csv(fn_chl)"
   ]
  },
  {
   "cell_type": "code",
   "execution_count": 4,
   "metadata": {},
   "outputs": [
    {
     "name": "stdout",
     "output_type": "stream",
     "text": [
      "idx, time, lat, lon, rrs_MER1, lam_MER1, rrs_MER2, lam_MER2, rrs_MER3, lam_MER3, rrs_MER4, lam_MER4, rrs_MER5, lam_MER5, rrs_MER6, lam_MER6, rrs_MER7, lam_MER7, rrs_MER8, lam_MER8, rrs_MER9, lam_MER9, rrs_MER10, lam_MER10, rrs_MER11, lam_MER11, rrs_MER12, lam_MER12, rrs_MER13, lam_MER13, rrs_MOD1, lam_MOD1, rrs_MOD2, lam_MOD2, rrs_MOD3, lam_MOD3, rrs_MOD4, lam_MOD4, rrs_MOD5, lam_MOD5, rrs_MOD6, lam_MOD6, rrs_MOD7, lam_MOD7, rrs_MOD8, lam_MOD8, rrs_MOD9, lam_MOD9, rrs_SWS1, lam_SWS1, rrs_SWS2, lam_SWS2, rrs_SWS3, lam_SWS3, rrs_SWS4, lam_SWS4, rrs_SWS5, lam_SWS5, rrs_SWS6, lam_SWS6, rrs_SWS7, lam_SWS7, rrs_SWS8, lam_SWS8, rrs_VIR1, lam_VIR1, rrs_VIR2, lam_VIR2, rrs_VIR3, lam_VIR3, rrs_VIR4, lam_VIR4, rrs_VIR5, lam_VIR5, rrs_OLC1, lam_OLC1, rrs_OLC2, lam_OLC2, rrs_OLC3, lam_OLC3, rrs_OLC4, lam_OLC4, rrs_OLC5, lam_OLC5, rrs_OLC6, lam_OLC6, rrs_OLC7, lam_OLC7, etopo1, rrs_dataset, rrs_subdataset, rrs_contributor, flag_time, "
     ]
    }
   ],
   "source": [
    "# print names of columns\n",
    "for col in db_rrs.columns:\n",
    "    print(col,end=', ')"
   ]
  },
  {
   "cell_type": "code",
   "execution_count": 5,
   "metadata": {},
   "outputs": [],
   "source": [
    "wvs = np.array([411,443,488,510,555,670]) # this is for SeaWiFS\n",
    "#wvs = np.array([411,443,488,531,547,667,678,750]) # this is for MODIS"
   ]
  },
  {
   "cell_type": "code",
   "execution_count": 6,
   "metadata": {},
   "outputs": [],
   "source": [
    "lon = db_iop['lon'].to_numpy()\n",
    "lat = db_iop['lat'].to_numpy()"
   ]
  },
  {
   "cell_type": "markdown",
   "metadata": {},
   "source": [
    "### Find indices where all data are present (for SeaWiFS)\n"
   ]
  },
  {
   "cell_type": "code",
   "execution_count": 7,
   "metadata": {},
   "outputs": [],
   "source": [
    "good_rrs_inds = np.all(np.array([np.isfinite(db_rrs['rrs_SWS%d'%i]) for i in range(1,7)]),axis=0)\n",
    "good_aph_inds = np.all(np.array([np.isfinite(db_iop['aph_SWS%d'%i]) for i in range(1,7)]),axis=0)\n",
    "good_adg_inds = np.all(np.array([np.isfinite(db_iop['adg_SWS%d'%i]) for i in range(1,7)]),axis=0)\n",
    "good_bbp_inds = np.all(np.array([np.isfinite(db_iop['bbp_SWS%d'%i]) for i in range(1,7)]),axis=0)\n",
    "good_iop_inds = good_aph_inds & good_adg_inds & good_bbp_inds\n",
    "good_chl_inds = np.isfinite(db_chl['chla_fluor']) | np.isfinite(db_chl['chla_hplc'])\n",
    "\n",
    "good_rrs_idx = db_rrs['idx'][good_rrs_inds].to_numpy()\n",
    "good_iop_idx = db_iop['idx'][good_iop_inds].to_numpy()\n",
    "good_chl_idx = db_chl['idx'][good_chl_inds].to_numpy()\n",
    "\n",
    "all_idx = np.intersect1d(np.intersect1d(good_rrs_idx,good_iop_idx),good_chl_idx)\n",
    "all_inds_rrs = np.where(good_rrs_inds)[0][np.isin(good_rrs_idx,all_idx)]\n",
    "all_inds_iop = np.where(good_iop_inds)[0][np.isin(good_iop_idx,all_idx)]\n",
    "all_inds_chl = np.where(good_chl_inds)[0][np.isin(good_chl_idx,all_idx)]"
   ]
  },
  {
   "cell_type": "code",
   "execution_count": 8,
   "metadata": {},
   "outputs": [
    {
     "name": "stdout",
     "output_type": "stream",
     "text": [
      "Num with all variables 86\n"
     ]
    }
   ],
   "source": [
    "print('Num with all variables',len(all_idx))"
   ]
  },
  {
   "cell_type": "code",
   "execution_count": 9,
   "metadata": {},
   "outputs": [
    {
     "name": "stdout",
     "output_type": "stream",
     "text": [
      "These are the datasets that had all variables\n",
      "Rrs datasets: ['nomad']\n",
      "aph datasets: ['nomad']\n",
      "adg datasets: ['nomad']\n",
      "bbp datasets: ['nomad']\n",
      "fchl datasets: ['nomad']\n",
      "HPLC datasets: ['nomad' nan]\n"
     ]
    }
   ],
   "source": [
    "print('These are the datasets that had all variables')\n",
    "print('Rrs datasets:',db_rrs['rrs_dataset'][all_inds_rrs].unique())\n",
    "print('aph datasets:',db_iop['aph_dataset'][all_inds_iop].unique())\n",
    "print('adg datasets:',db_iop['adg_dataset'][all_inds_iop].unique())\n",
    "print('bbp datasets:',db_iop['bbp_dataset'][all_inds_iop].unique())\n",
    "print('fchl datasets:',db_chl['chla_fluor_dataset'][all_inds_chl].unique())\n",
    "print('HPLC datasets:',db_chl['chla_hplc_dataset'][all_inds_chl].unique())\n",
    "\n"
   ]
  },
  {
   "cell_type": "code",
   "execution_count": 10,
   "metadata": {},
   "outputs": [],
   "source": [
    "all_rrs = np.array([db_rrs['rrs_SWS%d'%i][all_inds_rrs] for i in range(1,7)])\n",
    "all_aph = np.array([db_iop['aph_SWS%d'%i][all_inds_iop] for i in range(1,7)])\n",
    "all_adg = np.array([db_iop['adg_SWS%d'%i][all_inds_iop] for i in range(1,7)])\n",
    "all_bbp = np.array([db_iop['bbp_SWS%d'%i][all_inds_iop] for i in range(1,7)])\n",
    "\n",
    "all_lon = db_iop['lon'][all_inds_iop].to_numpy()\n",
    "all_lat = db_iop['lat'][all_inds_iop].to_numpy()\n",
    "\n",
    "all_chlf = db_chl['chla_fluor'][all_inds_chl].to_numpy()\n",
    "all_hplc = db_chl['chla_hplc'][all_inds_chl].to_numpy()\n",
    "\n",
    "all_chl = np.array([db_chl['chla_hplc'][i] if np.isfinite(db_chl['chla_hplc'][i]) else db_chl['chla_fluor'][i] for i in all_inds_chl])"
   ]
  },
  {
   "cell_type": "code",
   "execution_count": 21,
   "metadata": {},
   "outputs": [],
   "source": [
    "ex_ind = 41 # this is what is used int he example"
   ]
  },
  {
   "cell_type": "code",
   "execution_count": 11,
   "metadata": {},
   "outputs": [],
   "source": [
    "def get_eta(wvs,bbp):\n",
    "    try:\n",
    "        eta = -1*np.polyfit(np.log(wvs),np.log(bbp),1)[0]\n",
    "    except:\n",
    "        eta = np.nan\n",
    "    return eta\n",
    "\n",
    "def get_sdg(wvs,adg):\n",
    "    sdg = -np.polyfit(wvs,np.log(adg),1)[0]\n",
    "    return sdg\n",
    "\n",
    "def get_aphstar(wv,chl):\n",
    "    aphstar = phytoA.get_bricaud_aph(chl,wv,1)[3]/0.055\n",
    "    return aphstar\n",
    "\n",
    "def get_adgstar(wv,sdg):\n",
    "    adgstar = np.exp(-sdg*(wv-443))\n",
    "    return adgstar\n",
    "\n",
    "def get_bbpstar(wv,eta):\n",
    "    bbpstar = (443/wv)**eta\n",
    "    return bbpstar\n",
    "\n",
    "def get_Rrs(wv,aph,adg,bbp,sdg,eta,chl,g1=0.0949,g2=0.0794):    \n",
    "    aw = pwIOP.get_aw(wv)\n",
    "    bbw = pwIOP.get_bbw(wv)\n",
    "    \n",
    "    atot = aw + aph*get_aphstar(wv,chl) + adg*get_adgstar(wv,sdg)\n",
    "    bbtot = bbw + bbp*get_bbpstar(wv,eta)\n",
    "    \n",
    "    u = bbtot/(atot + bbtot)\n",
    "    rrs = g1*u + g2*u**2\n",
    "    Rrs = 0.52*rrs / (1-1.7*rrs)\n",
    "    \n",
    "    return Rrs"
   ]
  },
  {
   "cell_type": "code",
   "execution_count": 12,
   "metadata": {},
   "outputs": [],
   "source": [
    "all_sdg = np.array([get_sdg(wvs[[1,4]],adg[[1,4]]) for adg in all_adg.T])\n",
    "all_eta = np.array([get_eta(wvs[[1,4]],bbp[[1,4]]) for bbp in all_bbp.T])\n",
    "der_chl = np.array([getChlor.getOC(r1=rrs[1],r2=rrs[2],r3=rrs[3],r4=rrs[4],method='oc4') for rrs in all_rrs.T])\n",
    "der_rrs = np.array([get_Rrs(wvs,aph,adg,bbp,sdg,eta,chl) for aph,adg,bbp,sdg,eta,chl in zip(all_aph[1],all_adg[1],all_bbp[1],all_sdg,all_eta,der_chl)]).T"
   ]
  },
  {
   "cell_type": "code",
   "execution_count": 13,
   "metadata": {},
   "outputs": [],
   "source": [
    "all_adg_der = np.array([np.exp(np.polyval(np.polyfit(wvs,np.log(adg),1),wvs)) for adg in all_adg.T]).T\n",
    "all_bbp_der = np.array([np.exp(np.polyval(np.polyfit(np.log(wvs),np.log(bbp),1),np.log(wvs))) for bbp in all_bbp.T]).T"
   ]
  },
  {
   "cell_type": "markdown",
   "metadata": {
    "tags": []
   },
   "source": [
    "### Do all retrievals"
   ]
  },
  {
   "cell_type": "code",
   "execution_count": 14,
   "metadata": {},
   "outputs": [],
   "source": [
    "import time as pytime"
   ]
  },
  {
   "cell_type": "code",
   "execution_count": 16,
   "metadata": {},
   "outputs": [
    {
     "name": "stdout",
     "output_type": "stream",
     "text": [
      "Execution time (seconds): 2.2233431339263916\n"
     ]
    }
   ],
   "source": [
    "start = pytime.time()\n",
    "giop_out_all = ()\n",
    "for rrs,chl in zip(all_rrs.T,all_chl.T):\n",
    "    #inds = np.\n",
    "    giop_out_all += (getGiop.giop(wvs,rrs,np.diag((rrs*0.05)**2),chl=chl,\n",
    "                        fq='gordon', inv='amoeba', sdg='qaa', error='relative',aph='ciotti'),)\n",
    "end = pytime.time()\n",
    "print('Execution time (seconds):',end - start)"
   ]
  },
  {
   "cell_type": "code",
   "execution_count": 15,
   "metadata": {
    "tags": []
   },
   "outputs": [
    {
     "name": "stdout",
     "output_type": "stream",
     "text": [
      "Execution time (seconds): 8.610506296157837\n"
     ]
    }
   ],
   "source": [
    "start = pytime.time()\n",
    "giop2_out_all = ()\n",
    "for rrs,chl in zip(all_rrs.T,all_chl.T):\n",
    "    giop2_out_all += (getGiop.giop(wvs,rrs,np.diag((rrs*0.05)**2),chl=chl,\n",
    "                        num_retr=5, fq='gordon', inv='amoeba', sdg='qaa', error='relative',aph='ciotti'),)\n",
    "end = pytime.time()\n",
    "print('Execution time (seconds):',end - start)"
   ]
  },
  {
   "cell_type": "code",
   "execution_count": 17,
   "metadata": {
    "tags": []
   },
   "outputs": [
    {
     "name": "stdout",
     "output_type": "stream",
     "text": [
      "Execution time (seconds): 4.772956848144531\n"
     ]
    }
   ],
   "source": [
    "start = pytime.time()\n",
    "bayes_out_all = ()\n",
    "\n",
    "priors = [np.concatenate((out[0],[out[4]],[out[5]])) for out in giop_out_all]\n",
    "cov_pr_3var = [out[1] for out in giop_out_all]\n",
    "\n",
    "for rrs,chl,prior,cov_3var in zip(all_rrs.T,all_chl.T,priors,cov_pr_3var):\n",
    "    cov_prior = np.zeros(shape=(5,5))\n",
    "    cov_prior[0:3,0:3] = cov_3var\n",
    "    cov_prior[3,3] = 0.001**2\n",
    "    cov_prior[4,4] = 0.1**2\n",
    "    bayes_out_all += (getGiop.giop(wvs,rrs,np.diag((rrs*0.05)**2),chl=chl,\n",
    "                         fq='gordon', inv='Bayes', sdg='qaa', error='relative',aph='ciotti',\n",
    "                         num_retr=5, prior=prior, cov_prior=cov_prior),)\n",
    "\n",
    "end = pytime.time()\n",
    "print('Execution time (seconds):',end - start)"
   ]
  },
  {
   "cell_type": "code",
   "execution_count": 18,
   "metadata": {},
   "outputs": [],
   "source": [
    "giop_out_vals = np.array([g[0] for g in giop_out_all])\n",
    "giop2_out_vals = np.array([g[0] for g in giop2_out_all])\n",
    "bayes_out_vals = np.array([g[0] for g in bayes_out_all])\n",
    "giop2_out_vals[giop2_out_vals==-999] = np.nan\n",
    "giop_out_sdg = np.array([g[4] for g in giop_out_all])\n",
    "giop_out_eta = np.array([g[5] for g in giop_out_all])"
   ]
  },
  {
   "cell_type": "code",
   "execution_count": 19,
   "metadata": {
    "tags": []
   },
   "outputs": [
    {
     "name": "stderr",
     "output_type": "stream",
     "text": [
      "/var/folders/qy/wmwmmxjn49vdd0lrh2vp44sm0002np/T/ipykernel_12178/1094465464.py:3: RuntimeWarning: invalid value encountered in log\n",
      "  MAE_giop2_all = np.array([((np.exp(np.mean(np.abs(np.log(out[6]/rrs))))-1)*100) for out,rrs in zip(giop2_out_all,all_rrs.T)])\n"
     ]
    }
   ],
   "source": [
    "MAE_all = np.array([((np.exp(np.mean(np.abs(np.log(der/rrs))))-1)*100) for der,rrs in zip(der_rrs.T,all_rrs.T)])\n",
    "MAE_giop_all = np.array([((np.exp(np.mean(np.abs(np.log(out[6]/rrs))))-1)*100) for out,rrs in zip(giop_out_all,all_rrs.T)])\n",
    "MAE_giop2_all = np.array([((np.exp(np.mean(np.abs(np.log(out[6]/rrs))))-1)*100) for out,rrs in zip(giop2_out_all,all_rrs.T)])\n",
    "MAE_bayes_all = np.array([((np.exp(np.mean(np.abs(np.log(out[6]/rrs))))-1)*100) for out,rrs in zip(bayes_out_all,all_rrs.T)])\n"
   ]
  },
  {
   "cell_type": "markdown",
   "metadata": {},
   "source": [
    "## pick one example"
   ]
  },
  {
   "cell_type": "code",
   "execution_count": 22,
   "metadata": {
    "tags": []
   },
   "outputs": [
    {
     "data": {
      "image/png": "[encoded data removed]",
      "text/plain": [
       "<Figure size 360x180 with 1 Axes>"
      ]
     },
     "metadata": {
      "needs_background": "light"
     },
     "output_type": "display_data"
    }
   ],
   "source": [
    "plt.figure(figsize=(5,2.5))\n",
    "plt.plot(all_rrs[:,ex_ind],marker='x',label='Measured',c='k',ls='none',zorder=999)\n",
    "plt.plot(der_rrs[:,ex_ind],marker='.',label='Modeled, MAE: %.1f%%'%MAE_all[ex_ind],c='C2')\n",
    "plt.plot(giop_out_all[ex_ind][6],marker='.',label='3-var, MAE: %.1f%%'%MAE_giop_all[ex_ind],c='C0')\n",
    "plt.plot(giop2_out_all[ex_ind][6],marker='.',label='5-var, MAE: %.1f%%'%MAE_giop2_all[ex_ind],c='C1')\n",
    "plt.plot(bayes_out_all[ex_ind][6],marker='.',label='bayes, MAE: %.1f%%'%MAE_bayes_all[ex_ind],c='maroon')\n",
    "\n",
    "plt.legend(fontsize='small')\n",
    "plt.xticks(range(len(wvs)),wvs);\n",
    "plt.xlabel('Wavelength (nm)')\n",
    "plt.ylabel('$R_{rs}$ (sr$^{-1}$)')\n",
    "plt.tight_layout()\n",
    "plt.ylim([0,0.003])\n",
    "plt.yticks([0,0.001,0.002,0.003]);\n",
    "\n",
    "#plt.savefig('rrs_ex.png',dpi=300,transparent=True)"
   ]
  },
  {
   "cell_type": "code",
   "execution_count": 23,
   "metadata": {},
   "outputs": [],
   "source": [
    "def make_gaussian(x,mean,dev):\n",
    "    return np.exp(-(x-mean)**2/(2*dev**2))/np.sqrt(2*np.pi*dev**2)"
   ]
  },
  {
   "cell_type": "code",
   "execution_count": 24,
   "metadata": {},
   "outputs": [
    {
     "data": {
      "image/png": "[encoded data removed]",
      "text/plain": [
       "<Figure size 576x288 with 6 Axes>"
      ]
     },
     "metadata": {
      "needs_background": "light"
     },
     "output_type": "display_data"
    }
   ],
   "source": [
    "truths = (all_aph[1,ex_ind]/.055,all_adg[1,ex_ind],all_bbp[1,ex_ind],all_sdg[ex_ind],all_eta[ex_ind])\n",
    "ranges = ([.5,1.5],[0,.06],[0.001,0.004],[0.01,0.02],[0.5,2])\n",
    "fig,ax = plt.subplots(2,3,figsize=(8,4))\n",
    "ax[1,0].set_visible(False)\n",
    "ax = (ax[0,0],ax[0,1],ax[0,2],ax[1,1],ax[1,2])\n",
    "\n",
    "# need to make the 3-var solution because the output has eta and Sdg in different places (because they aren't retrieved)\n",
    "example_3var_sol = np.concatenate((giop_out_all[ex_ind][0],[giop_out_all[ex_ind][4]],[giop_out_all[ex_ind][5]]))\n",
    "example_3var_covar = np.zeros(shape=(5,5))\n",
    "example_3var_covar[0:3,0:3] = giop_out_all[ex_ind][1]\n",
    "example_3var_covar[3,3] = 0.001**2\n",
    "example_3var_covar[4,4] = 0.1**2\n",
    "\n",
    "for i,a in enumerate(ax):\n",
    "    # plot truth as vertical line\n",
    "    a.axvline(truths[i],c='k',label='Observation (truth)',zorder=4)\n",
    "    \n",
    "    # set x var\n",
    "    xx = np.linspace(ranges[i][0],ranges[i][1],100)\n",
    "    \n",
    "    # plot 3-var GIOP distribution and most-likely value\n",
    "    g = make_gaussian(xx,example_3var_sol[i],example_3var_covar[i,i]**.5)\n",
    "    a.plot(xx,g,c='C0',label='GIOP (3-var)',zorder=3)\n",
    "    a.plot(example_3var_sol[[i,i]],[0,np.max(g)],c='C0',zorder=3)\n",
    "    \n",
    "    # plot 5-var GIOP distribution and most-likely value\n",
    "    g = make_gaussian(xx,giop2_out_all[ex_ind][0][i],giop2_out_all[ex_ind][1][i,i]**.5)\n",
    "    a.plot(xx,g,c='C1',label='GIOP (5-var)',zorder=2)\n",
    "    a.plot(giop2_out_all[ex_ind][0][[i,i]],[0,np.max(g)],c='C1',zorder=2)\n",
    "    \n",
    "    # plot Bayes GIOP distribution and most-likely value\n",
    "    g = make_gaussian(xx,bayes_out_all[ex_ind][0][i],bayes_out_all[ex_ind][7][i,i]**.5)\n",
    "    a.plot(xx,g,c='maroon',label='Bayesian-GIOP',zorder=0)\n",
    "    a.plot(bayes_out_all[ex_ind][0][[i,i]],[0,np.max(g)],c='maroon',zorder=0)\n",
    "    \n",
    "    a.set_xlim(ranges[i])\n",
    "    a.set_ylim([0,None])\n",
    "    a.set_yticks([])\n",
    "for a,label in zip(ax,['$a_{ph}(443)$ (m$^{-1}$)','$a_{dg}(443)$ (m$^{-1}$)','$b_{bp}(555)$ (m$^{-1}$)','$S_{dg}$ (nm$^{-1}$)','$\\eta$']):\n",
    "    a.set_xlabel(label);\n",
    "plt.tight_layout()\n",
    "ax[0].legend(loc=(0.1,-1.25))\n",
    "ax[0].set_ylabel('Relative Probability')\n",
    "ax[3].set_ylabel('Relative Probability')\n",
    "for a,letter in zip(ax,['A','B','C','D','E']):\n",
    "    a.annotate(letter,(0.03,0.88),xycoords='axes fraction',fontweight='bold')\n",
    "#plt.savefig('result_ex.png',dpi=300)"
   ]
  },
  {
   "cell_type": "code",
   "execution_count": 25,
   "metadata": {},
   "outputs": [
    {
     "name": "stdout",
     "output_type": "stream",
     "text": [
      " \t\t Truth \t pygiop \t Bayes \t\t pygiop (5var)\n",
      "a_ph(443) \t 0.96 \t 1.09 (0.09)\t 1.01 (0.07)\t 0.54 (0.17)\n",
      "a_dg(443) \t 0.049 \t 0.043 (0.003)\t 0.046 (0.003)\t 0.086 (0.041)\n",
      "b_bp(443) \t 0.0029\t 0.0024 (0.0001) 0.0024 (0.0001) 0.0036 (0.0021)\n",
      "   S_dg   \t 0.014 \t 0.016 \t\t 0.013 (0.001)\t 0.010 (0.001)\n",
      "    eta   \t 1.44 \t 1.34 \t\t 1.19  (0.08)\t 1.88  (1.59)\n"
     ]
    }
   ],
   "source": [
    "print(' \\t\\t Truth \\t pygiop \\t Bayes \\t\\t pygiop (5var)')\n",
    "print('a_ph(443) \\t %.2f \\t %.2f (%.2f)\\t %.2f (%.2f)\\t %.2f (%.2f)'%\n",
    "      (all_aph[1,ex_ind]/.055, giop_out_all[ex_ind][0][0], (giop_out_all[ex_ind][1][0,0])**.5, bayes_out_all[ex_ind][0][0], (bayes_out_all[ex_ind][7][0,0])**.5, giop2_out_all[ex_ind][0][0], (giop2_out_all[ex_ind][1][0,0])**.5))\n",
    "print('a_dg(443) \\t %.3f \\t %.3f (%.3f)\\t %.3f (%.3f)\\t %.3f (%.3f)'%\n",
    "      (all_adg[1,ex_ind], giop_out_all[ex_ind][0][1], giop_out_all[ex_ind][1][1,1]**.5, bayes_out_all[ex_ind][0][1], bayes_out_all[ex_ind][7][1,1]**.5, giop2_out_all[ex_ind][0][1], giop2_out_all[ex_ind][1][1,1]**.5))\n",
    "print('b_bp(443) \\t %.4f\\t %.4f (%.4f) %.4f (%.4f) %.4f (%.4f)'%\n",
    "      (all_bbp[1,ex_ind], giop_out_all[ex_ind][0][2], giop_out_all[ex_ind][1][2,2]**.5, bayes_out_all[ex_ind][0][2], bayes_out_all[ex_ind][7][2,2]**.5, giop2_out_all[ex_ind][0][2], giop2_out_all[ex_ind][1][2,2]**.5))\n",
    "print('   S_dg   \\t %.3f \\t %.3f \\t\\t %.3f (%.3f)\\t %.3f (%.3f)'%\n",
    "      (all_sdg[ex_ind], giop_out_all[ex_ind][4], bayes_out_all[ex_ind][0][3], bayes_out_all[ex_ind][7][3,3]**.5, giop2_out_all[ex_ind][0][3], giop2_out_all[ex_ind][1][3,3]**.5))\n",
    "print('    eta   \\t %.2f \\t %.2f \\t\\t %.2f  (%.2f)\\t %.2f  (%.2f)'%\n",
    "      (all_eta[ex_ind], giop_out_all[ex_ind][5], bayes_out_all[ex_ind][0][4], bayes_out_all[ex_ind][7][4,4]**.5, giop2_out_all[ex_ind][0][4], giop2_out_all[ex_ind][1][4,4]**.5))"
   ]
  },
  {
   "cell_type": "code",
   "execution_count": 28,
   "metadata": {},
   "outputs": [
    {
     "name": "stdout",
     "output_type": "stream",
     "text": [
      "38 retrievals (out of 86) have higher MAE than 25%\n"
     ]
    },
    {
     "data": {
      "image/png": "[encoded data removed]",
      "text/plain": [
       "<Figure size 432x288 with 1 Axes>"
      ]
     },
     "metadata": {
      "needs_background": "light"
     },
     "output_type": "display_data"
    }
   ],
   "source": [
    "print(np.sum(MAE_all>25),'retrievals (out of %d) have higher MAE than 25%%'%len(all_idx))\n",
    "plt.plot(np.sort(MAE_all))\n",
    "plt.axhline(25,c='k',ls=':');\n",
    "plt.ylabel('MAE (percentage)')\n",
    "plt.xlabel('Retrieval number (sorted)');"
   ]
  },
  {
   "cell_type": "code",
   "execution_count": 29,
   "metadata": {},
   "outputs": [
    {
     "name": "stdout",
     "output_type": "stream",
     "text": [
      "[3.53463428 5.60443602 8.20451533]\n",
      "6.843477671066937 4.575883036230481\n",
      "4.943277338645737 2.6570539443112193\n",
      "1.0365193770641274 1.6381842136325995\n"
     ]
    }
   ],
   "source": [
    "print(np.nanpercentile(MAE_giop_all,[25,50,75]))\n",
    "print(np.nanmean(MAE_giop_all),np.nanstd(MAE_giop_all))\n",
    "print(np.nanmean(MAE_bayes_all),np.nanstd(MAE_bayes_all))\n",
    "print(np.nanmean(MAE_giop2_all),np.nanstd(MAE_giop2_all))"
   ]
  },
  {
   "cell_type": "markdown",
   "metadata": {},
   "source": [
    "## Bunches of NOMAD stats"
   ]
  },
  {
   "cell_type": "code",
   "execution_count": 30,
   "metadata": {},
   "outputs": [
    {
     "name": "stderr",
     "output_type": "stream",
     "text": [
      "/var/folders/qy/wmwmmxjn49vdd0lrh2vp44sm0002np/T/ipykernel_12178/4222620566.py:12: RuntimeWarning: invalid value encountered in log\n",
      "  ax[0].plot(centers,np.histogram(np.log(giop2_out_vals[:,0]/(all_aph[1]/.055)),edges)[0],c='C1',label='GIOP (5-var)',**kwargs)\n",
      "/var/folders/qy/wmwmmxjn49vdd0lrh2vp44sm0002np/T/ipykernel_12178/4222620566.py:24: RuntimeWarning: invalid value encountered in log\n",
      "  ax[3].plot(centers,np.histogram(np.log(giop2_out_vals[:,3]/all_sdg),edges)[0],c='C1',label='GIOP (5-var)',**kwargs)\n",
      "/var/folders/qy/wmwmmxjn49vdd0lrh2vp44sm0002np/T/ipykernel_12178/4222620566.py:28: RuntimeWarning: invalid value encountered in log\n",
      "  ax[4].plot(centers,np.histogram(np.log(giop2_out_vals[:,4]/all_eta),edges)[0],c='C1',label='GIOP (5-var)',**kwargs)\n",
      "/var/folders/qy/wmwmmxjn49vdd0lrh2vp44sm0002np/T/ipykernel_12178/4222620566.py:29: RuntimeWarning: invalid value encountered in log\n",
      "  ax[4].plot(centers,np.histogram(np.log(bayes_out_vals[:,4]/all_eta),edges)[0],c='maroon',label='Bayesian-GIOP',**kwargs)\n"
     ]
    },
    {
     "data": {
      "image/png": "[encoded data removed]",
      "text/plain": [
       "<Figure size 576x288 with 6 Axes>"
      ]
     },
     "metadata": {
      "needs_background": "light"
     },
     "output_type": "display_data"
    }
   ],
   "source": [
    "fig,ax = plt.subplots(2,3,figsize=(8,4))\n",
    "ax[1,0].set_visible(False)\n",
    "ax = (ax[0,0],ax[0,1],ax[0,2],ax[1,1],ax[1,2])\n",
    "\n",
    "kwargs = {'marker':'.','clip_on':False}\n",
    "\n",
    "edges = np.linspace(np.log(1/3),np.log(3),16); centers = edges[:-1]+np.diff(edges)/2\n",
    "edges = np.concatenate(([-np.inf],edges,[np.inf]))\n",
    "centers = np.concatenate(([-1.4],centers,[1.4]))\n",
    "\n",
    "ax[0].plot(centers,np.histogram(np.log(giop_out_vals[:,0]/(all_aph[1]/.055)),edges)[0],c='C0',label='GIOP (3-var)',**kwargs)\n",
    "ax[0].plot(centers,np.histogram(np.log(giop2_out_vals[:,0]/(all_aph[1]/.055)),edges)[0],c='C1',label='GIOP (5-var)',**kwargs)\n",
    "ax[0].plot(centers,np.histogram(np.log(bayes_out_vals[:,0]/(all_aph[1]/.055)),edges)[0],c='maroon',label='Bayesian-GIOP',**kwargs)\n",
    "\n",
    "ax[1].plot(centers,np.histogram(np.log(giop_out_vals[:,1]/all_adg[1]),edges)[0],c='C0',label='GIOP (3-var)',**kwargs)\n",
    "ax[1].plot(centers,np.histogram(np.log(giop2_out_vals[:,1]/all_adg[1]),edges)[0],c='C1',label='GIOP (5-var)',**kwargs)\n",
    "ax[1].plot(centers,np.histogram(np.log(bayes_out_vals[:,1]/all_adg[1]),edges)[0],c='maroon',label='Bayesian-GIOP',**kwargs)\n",
    "\n",
    "ax[2].plot(centers,np.histogram(np.log(giop_out_vals[:,2]/all_bbp[4]),edges)[0],c='C0',label='GIOP (3-var)',**kwargs)\n",
    "ax[2].plot(centers,np.histogram(np.log(giop2_out_vals[:,2]/all_bbp[4]),edges)[0],c='C1',label='GIOP (5-var)',**kwargs)\n",
    "ax[2].plot(centers,np.histogram(np.log(bayes_out_vals[:,2]/all_bbp[4]),edges)[0],c='maroon',label='Bayesian-GIOP',**kwargs)\n",
    "\n",
    "ax[3].plot(centers,np.histogram(np.log(giop_out_sdg/all_sdg),edges)[0],c='C0',label='GIOP (3-var)',**kwargs)\n",
    "ax[3].plot(centers,np.histogram(np.log(giop2_out_vals[:,3]/all_sdg),edges)[0],c='C1',label='GIOP (5-var)',**kwargs)\n",
    "ax[3].plot(centers,np.histogram(np.log(bayes_out_vals[:,3]/all_sdg),edges)[0],c='maroon',label='Bayesian-GIOP',**kwargs)\n",
    "\n",
    "ax[4].plot(centers,np.histogram(np.log(giop_out_eta/all_eta),edges)[0],c='C0',label='GIOP (3-var)',**kwargs)\n",
    "ax[4].plot(centers,np.histogram(np.log(giop2_out_vals[:,4]/all_eta),edges)[0],c='C1',label='GIOP (5-var)',**kwargs)\n",
    "ax[4].plot(centers,np.histogram(np.log(bayes_out_vals[:,4]/all_eta),edges)[0],c='maroon',label='Bayesian-GIOP',**kwargs)\n",
    "\n",
    "for a in ax:\n",
    "    a.set_xticks(np.log([np.exp(-1.4),1/3,.5,3/4,1,4/3,2,3,np.exp(1.4)]))\n",
    "    a.set_xticklabels(['<','1/3','1/2','3/4',1,'4/3','2','3','>'],fontsize='10')\n",
    "    a.set_ylim([0,35])\n",
    "    a.set_xlim([-1.4,1.4])\n",
    "\n",
    "for a,label in zip(ax,['$a_{ph}(443)$','$a_{dg}(443)$','$b_{bp}(555)$','$S_{dg}$','$\\eta$']):\n",
    "    a.set_xlabel(label+', retr:obs');\n",
    "plt.tight_layout()\n",
    "ax[0].legend(loc=(0.1,-1.25))\n",
    "for a,letter in zip(ax,['A','B','C','D','E']):\n",
    "    a.annotate(letter,(0.03,0.88),xycoords='axes fraction',fontweight='bold')\n",
    "#plt.savefig('results_all.png',dpi=300)"
   ]
  },
  {
   "cell_type": "markdown",
   "metadata": {
    "tags": []
   },
   "source": [
    "### a_ph"
   ]
  },
  {
   "cell_type": "code",
   "execution_count": 31,
   "metadata": {},
   "outputs": [
    {
     "name": "stdout",
     "output_type": "stream",
     "text": [
      "3-variable stats\n",
      "Bias factor 0.9721249862633701\n",
      "MAE 1.3473279090746355\n",
      "% wins (1) 0.32558139534883723\n",
      "% wins (2) 0.7619047619047619\n",
      "% wins 0.429325\n"
     ]
    }
   ],
   "source": [
    "print('3-variable stats')\n",
    "print('Bias factor',np.exp(np.nanmean(np.log(giop_out_vals[:,0])-np.log(all_aph[1]/.055))))\n",
    "print('MAE',np.exp(np.nanmean(np.abs(np.log(giop_out_vals[:,0])-np.log(all_aph[1]/.055)))))\n",
    "print('% wins (1)',np.sum(np.abs(giop_out_vals[:,0]-all_aph[1]/.055)<np.abs(bayes_out_vals[:,0]-all_aph[1]/.055))/np.sum(np.isfinite(giop_out_vals[:,0]*bayes_out_vals[:,0])))\n",
    "print('% wins (2)',np.sum(np.abs(giop_out_vals[:,0]-all_aph[1]/.055)<np.abs(giop2_out_vals[:,0]-all_aph[1]/.055))/np.sum(np.isfinite(giop_out_vals[:,0]*giop2_out_vals[:,0])))\n",
    "print('% wins',(0.20930+0.64935)/2)"
   ]
  },
  {
   "cell_type": "code",
   "execution_count": 32,
   "metadata": {},
   "outputs": [
    {
     "name": "stdout",
     "output_type": "stream",
     "text": [
      "bayesian stats\n",
      "Bias factor 0.9725207927078691\n",
      "MAE 1.3135613728546467\n",
      "% wins (1) 0.6744186046511628\n",
      "% wins (2) 0.7936507936507936\n",
      "% wins 0.746\n"
     ]
    }
   ],
   "source": [
    "print('bayesian stats')\n",
    "print('Bias factor',np.exp(np.nanmean(np.log(bayes_out_vals[:,0])-np.log(all_aph[1]/.055))))\n",
    "print('MAE',np.exp(np.nanmean(np.abs(np.log(bayes_out_vals[:,0])-np.log(all_aph[1]/.055)))))\n",
    "print('% wins (1)',np.sum(np.abs(bayes_out_vals[:,0]-all_aph[1]/.055)<np.abs(giop_out_vals[:,0]-all_aph[1]/.055))/np.sum(np.isfinite(bayes_out_vals[:,0]*giop_out_vals[:,0])))\n",
    "print('% wins (2)',np.sum(np.abs(bayes_out_vals[:,0]-all_aph[1]/.055)<np.abs(giop2_out_vals[:,0]-all_aph[1]/.055))/np.sum(np.isfinite(bayes_out_vals[:,0]*giop2_out_vals[:,0])))\n",
    "print('% wins',(0.79070+0.70130)/2)"
   ]
  },
  {
   "cell_type": "code",
   "execution_count": 33,
   "metadata": {},
   "outputs": [
    {
     "name": "stdout",
     "output_type": "stream",
     "text": [
      "5-variable stats\n",
      "Bias factor 1.4416707431522198\n",
      "MAE 1.7131828941415996\n",
      "% wins (1) 0.23809523809523808\n",
      "% wins (2) 0.20634920634920634\n",
      "% wins 0.32467500000000005\n"
     ]
    },
    {
     "name": "stderr",
     "output_type": "stream",
     "text": [
      "/var/folders/qy/wmwmmxjn49vdd0lrh2vp44sm0002np/T/ipykernel_12178/465673257.py:2: RuntimeWarning: invalid value encountered in log\n",
      "  print('Bias factor',np.exp(np.nanmean(np.log(giop2_out_vals[:,0])-np.log(all_aph[1]/.055))))\n",
      "/var/folders/qy/wmwmmxjn49vdd0lrh2vp44sm0002np/T/ipykernel_12178/465673257.py:3: RuntimeWarning: invalid value encountered in log\n",
      "  print('MAE',np.exp(np.nanmean(np.abs(np.log(giop2_out_vals[:,0])-np.log(all_aph[1]/.055)))))\n"
     ]
    }
   ],
   "source": [
    "print('5-variable stats')\n",
    "print('Bias factor',np.exp(np.nanmean(np.log(giop2_out_vals[:,0])-np.log(all_aph[1]/.055))))\n",
    "print('MAE',np.exp(np.nanmean(np.abs(np.log(giop2_out_vals[:,0])-np.log(all_aph[1]/.055)))))\n",
    "print('% wins (1)',np.sum(np.abs(giop2_out_vals[:,0]-all_aph[1]/.055)<np.abs(giop_out_vals[:,0]-all_aph[1]/.055))/np.sum(np.isfinite(giop2_out_vals[:,0]*giop_out_vals[:,0])))\n",
    "print('% wins (2)',np.sum(np.abs(giop2_out_vals[:,0]-all_aph[1]/.055)<np.abs(bayes_out_vals[:,0]-all_aph[1]/.055))/np.sum(np.isfinite(giop2_out_vals[:,0]*bayes_out_vals[:,0])))\n",
    "print('% wins',(0.35065+0.29870)/2)"
   ]
  },
  {
   "cell_type": "markdown",
   "metadata": {
    "tags": []
   },
   "source": [
    "### a_dg"
   ]
  },
  {
   "cell_type": "code",
   "execution_count": 34,
   "metadata": {},
   "outputs": [
    {
     "name": "stdout",
     "output_type": "stream",
     "text": [
      "3-variable stats\n",
      "Bias factor 0.7428353520864005\n",
      "MAE 1.410949516716796\n",
      "% wins (1) 0.5348837209302325\n",
      "% wins (2) 0.9682539682539683\n",
      "% wins 0.78662\n"
     ]
    }
   ],
   "source": [
    "print('3-variable stats')\n",
    "print('Bias factor',np.exp(np.nanmean(np.log(giop_out_vals[:,1])-np.log(all_adg[1]))))\n",
    "print('MAE',np.exp(np.nanmean(np.abs(np.log(giop_out_vals[:,1])-np.log(all_adg[1])))))\n",
    "print('% wins (1)',np.sum(np.abs(giop_out_vals[:,1]-all_adg[1])<np.abs(bayes_out_vals[:,1]-all_adg[1]))/np.sum(np.isfinite(giop_out_vals[:,1]*bayes_out_vals[:,1])))\n",
    "print('% wins (2)',np.sum(np.abs(giop_out_vals[:,1]-all_adg[1])<np.abs(giop2_out_vals[:,1]-all_adg[1]))/np.sum(np.isfinite(giop_out_vals[:,1]*giop2_out_vals[:,1])))\n",
    "print('% wins',(0.65116+0.92208)/2)"
   ]
  },
  {
   "cell_type": "code",
   "execution_count": 35,
   "metadata": {},
   "outputs": [
    {
     "name": "stdout",
     "output_type": "stream",
     "text": [
      "bayesian stats\n",
      "Bias factor 0.7715931087448888\n",
      "MAE 1.3944032046022743\n",
      "% wins (1) 0.46511627906976744\n",
      "% wins (2) 0.9841269841269841\n",
      "% wins 0.628965\n"
     ]
    }
   ],
   "source": [
    "print('bayesian stats')\n",
    "print('Bias factor',np.exp(np.nanmean(np.log(bayes_out_vals[:,1])-np.log(all_adg[1]))))\n",
    "print('MAE',np.exp(np.nanmean(np.abs(np.log(bayes_out_vals[:,1])-np.log(all_adg[1])))))\n",
    "print('% wins (1)',np.sum(np.abs(bayes_out_vals[:,1]-all_adg[1])<np.abs(giop_out_vals[:,1]-all_adg[1]))/np.sum(np.isfinite(bayes_out_vals[:,1]*giop_out_vals[:,1])))\n",
    "print('% wins (2)',np.sum(np.abs(bayes_out_vals[:,1]-all_adg[1])<np.abs(giop2_out_vals[:,1]-all_adg[1]))/np.sum(np.isfinite(bayes_out_vals[:,1]*giop2_out_vals[:,1])))\n",
    "print('% wins',(0.34884+0.90909)/2)"
   ]
  },
  {
   "cell_type": "code",
   "execution_count": 36,
   "metadata": {},
   "outputs": [
    {
     "name": "stdout",
     "output_type": "stream",
     "text": [
      "5-variable stats\n",
      "Bias factor 0.25061072460347267\n",
      "MAE 7.821495547658374\n",
      "% wins (1) 0.031746031746031744\n",
      "% wins (2) 0.015873015873015872\n",
      "% wins 0.084415\n"
     ]
    }
   ],
   "source": [
    "print('5-variable stats')\n",
    "print('Bias factor',np.exp(np.nanmean(np.log(giop2_out_vals[:,1])-np.log(all_adg[1]))))\n",
    "print('MAE',np.exp(np.nanmean(np.abs(np.log(giop2_out_vals[:,1])-np.log(all_adg[1])))))\n",
    "print('% wins (1)',np.sum(np.abs(giop2_out_vals[:,1]-all_adg[1])<np.abs(giop_out_vals[:,1]-all_adg[1]))/np.sum(np.isfinite(giop2_out_vals[:,1]*giop_out_vals[:,1])))\n",
    "print('% wins (2)',np.sum(np.abs(giop2_out_vals[:,1]-all_adg[1])<np.abs(bayes_out_vals[:,1]-all_adg[1]))/np.sum(np.isfinite(giop2_out_vals[:,1]*bayes_out_vals[:,1])))\n",
    "print('% wins',(0.07792+0.09091)/2)"
   ]
  },
  {
   "cell_type": "markdown",
   "metadata": {
    "tags": []
   },
   "source": [
    "### b_bp"
   ]
  },
  {
   "cell_type": "code",
   "execution_count": 37,
   "metadata": {},
   "outputs": [
    {
     "name": "stdout",
     "output_type": "stream",
     "text": [
      "3-variable stats\n",
      "Bias factor 1.1577514037052294\n",
      "MAE 1.3434951547525806\n",
      "% wins (1) 0.6976744186046512\n",
      "% wins (2) 0.7301587301587301\n",
      "% wins 0.74426\n"
     ]
    }
   ],
   "source": [
    "print('3-variable stats')\n",
    "print('Bias factor',np.exp(np.nanmean(np.log(giop_out_vals[:,2])-np.log(all_bbp[4]))))\n",
    "print('MAE',np.exp(np.nanmean(np.abs(np.log(giop_out_vals[:,2])-np.log(all_bbp[4])))))\n",
    "print('% wins (1)',np.sum(np.abs(giop_out_vals[:,2]-all_bbp[4])<np.abs(bayes_out_vals[:,2]-all_bbp[4]))/np.sum(np.isfinite(giop_out_vals[:,2]*bayes_out_vals[:,2])))\n",
    "print('% wins (2)',np.sum(np.abs(giop_out_vals[:,2]-all_bbp[4])<np.abs(giop2_out_vals[:,2]-all_bbp[4]))/np.sum(np.isfinite(giop_out_vals[:,2]*giop2_out_vals[:,2])))\n",
    "print('% wins',(0.70930+0.77922)/2)"
   ]
  },
  {
   "cell_type": "code",
   "execution_count": 38,
   "metadata": {},
   "outputs": [
    {
     "name": "stdout",
     "output_type": "stream",
     "text": [
      "bayesian stats\n",
      "Bias factor 1.1807427702846403\n",
      "MAE 1.348794543623942\n",
      "% wins (1) 0.3023255813953488\n",
      "% wins (2) 0.7301587301587301\n",
      "% wins 0.528465\n"
     ]
    }
   ],
   "source": [
    "print('bayesian stats')\n",
    "print('Bias factor',np.exp(np.nanmean(np.log(bayes_out_vals[:,2])-np.log(all_bbp[4]))))\n",
    "print('MAE',np.exp(np.nanmean(np.abs(np.log(bayes_out_vals[:,2])-np.log(all_bbp[4])))))\n",
    "print('% wins (1)',np.sum(np.abs(bayes_out_vals[:,2]-all_bbp[4])<np.abs(giop_out_vals[:,2]-all_bbp[4]))/np.sum(np.isfinite(bayes_out_vals[:,2]*giop_out_vals[:,2])))\n",
    "print('% wins (2)',np.sum(np.abs(bayes_out_vals[:,2]-all_bbp[4])<np.abs(giop2_out_vals[:,2]-all_bbp[4]))/np.sum(np.isfinite(bayes_out_vals[:,2]*giop2_out_vals[:,2])))\n",
    "print('% wins',(0.29070+0.76623)/2)"
   ]
  },
  {
   "cell_type": "code",
   "execution_count": 39,
   "metadata": {},
   "outputs": [
    {
     "name": "stdout",
     "output_type": "stream",
     "text": [
      "5-variable stats\n",
      "Bias factor 1.4711595981090557\n",
      "MAE 2.2130679995878566\n",
      "% wins (1) 0.2698412698412698\n",
      "% wins (2) 0.2698412698412698\n",
      "% wins 0.227275\n"
     ]
    }
   ],
   "source": [
    "print('5-variable stats')\n",
    "print('Bias factor',np.exp(np.nanmean(np.log(giop2_out_vals[:,2])-np.log(all_bbp[4]))))\n",
    "print('MAE',np.exp(np.nanmean(np.abs(np.log(giop2_out_vals[:,2])-np.log(all_bbp[4])))))\n",
    "print('% wins (1)',np.sum(np.abs(giop2_out_vals[:,2]-all_bbp[4])<np.abs(giop_out_vals[:,2]-all_bbp[4]))/np.sum(np.isfinite(giop2_out_vals[:,2]*giop_out_vals[:,2])))\n",
    "print('% wins (2)',np.sum(np.abs(giop2_out_vals[:,2]-all_bbp[4])<np.abs(bayes_out_vals[:,2]-all_bbp[4]))/np.sum(np.isfinite(giop2_out_vals[:,2]*bayes_out_vals[:,2])))\n",
    "print('% wins',(0.22078+0.23377)/2)"
   ]
  },
  {
   "cell_type": "markdown",
   "metadata": {
    "tags": []
   },
   "source": [
    "### S_dg"
   ]
  },
  {
   "cell_type": "code",
   "execution_count": 40,
   "metadata": {},
   "outputs": [
    {
     "name": "stdout",
     "output_type": "stream",
     "text": [
      "3-variable stats\n",
      "Bias factor 1.2126052018508082\n",
      "MAE 1.2324594751458025\n",
      "% wins (1) 0.5697674418604651\n",
      "% wins (2) 0.873015873015873\n",
      "% wins 0.83449\n"
     ]
    }
   ],
   "source": [
    "print('3-variable stats')\n",
    "print('Bias factor',np.exp(np.nanmean(np.log(giop_out_sdg)-np.log(all_sdg))))\n",
    "print('MAE',np.exp(np.nanmean(np.abs(np.log(giop_out_sdg)-np.log(all_sdg)))))\n",
    "print('% wins (1)',np.sum(np.abs(giop_out_sdg-all_sdg)<np.abs(bayes_out_vals[:,3]-all_sdg))/np.sum(np.isfinite(giop_out_sdg*bayes_out_vals[:,3])))\n",
    "print('% wins (2)',np.sum(np.abs(giop_out_sdg-all_sdg)<np.abs(giop2_out_vals[:,3]-all_sdg))/np.sum(np.isfinite(giop_out_sdg*giop2_out_vals[:,3])))\n",
    "print('% wins',(0.72093+0.94805)/2)"
   ]
  },
  {
   "cell_type": "code",
   "execution_count": 41,
   "metadata": {},
   "outputs": [
    {
     "name": "stdout",
     "output_type": "stream",
     "text": [
      "bayesian stats\n",
      "Bias factor 1.1233759956018636\n",
      "MAE 1.243534231687638\n",
      "% wins (1) 0.43023255813953487\n",
      "% wins (2) 0.8571428571428571\n",
      "% wins 0.61356\n"
     ]
    }
   ],
   "source": [
    "print('bayesian stats')\n",
    "print('Bias factor',np.exp(np.nanmean(np.log(bayes_out_vals[:,3])-np.log(all_sdg))))\n",
    "print('MAE',np.exp(np.nanmean(np.abs(np.log(bayes_out_vals[:,3])-np.log(all_sdg)))))\n",
    "print('% wins (1)',np.sum(np.abs(bayes_out_vals[:,3]-all_sdg)<np.abs(giop_out_sdg-all_sdg))/np.sum(np.isfinite(bayes_out_vals[:,3]*giop_out_sdg)))\n",
    "print('% wins (2)',np.sum(np.abs(bayes_out_vals[:,3]-all_sdg)<np.abs(giop2_out_vals[:,3]-all_sdg))/np.sum(np.isfinite(bayes_out_vals[:,3]*giop2_out_vals[:,3])))\n",
    "print('% wins',(0.27907+0.94805)/2)"
   ]
  },
  {
   "cell_type": "code",
   "execution_count": 42,
   "metadata": {},
   "outputs": [
    {
     "name": "stdout",
     "output_type": "stream",
     "text": [
      "5-variable stats\n",
      "Bias factor 2.746315943362994\n",
      "MAE 3.216259263751666\n",
      "% wins (1) 0.12698412698412698\n",
      "% wins (2) 0.14285714285714285\n",
      "% wins 0.05195\n"
     ]
    },
    {
     "name": "stderr",
     "output_type": "stream",
     "text": [
      "/var/folders/qy/wmwmmxjn49vdd0lrh2vp44sm0002np/T/ipykernel_12178/2673819789.py:2: RuntimeWarning: invalid value encountered in log\n",
      "  print('Bias factor',np.exp(np.nanmean(np.log(giop2_out_vals[:,3])-np.log(all_sdg))))\n",
      "/var/folders/qy/wmwmmxjn49vdd0lrh2vp44sm0002np/T/ipykernel_12178/2673819789.py:3: RuntimeWarning: invalid value encountered in log\n",
      "  print('MAE',np.exp(np.nanmean(np.abs(np.log(giop2_out_vals[:,3])-np.log(all_sdg)))))\n"
     ]
    }
   ],
   "source": [
    "print('5-variable stats')\n",
    "print('Bias factor',np.exp(np.nanmean(np.log(giop2_out_vals[:,3])-np.log(all_sdg))))\n",
    "print('MAE',np.exp(np.nanmean(np.abs(np.log(giop2_out_vals[:,3])-np.log(all_sdg)))))\n",
    "print('% wins (1)',np.sum(np.abs(giop2_out_vals[:,3]-all_sdg)<np.abs(giop_out_sdg-all_sdg))/np.sum(np.isfinite(giop2_out_vals[:,3]*giop_out_sdg)))\n",
    "print('% wins (2)',np.sum(np.abs(giop2_out_vals[:,3]-all_sdg)<np.abs(bayes_out_vals[:,3]-all_sdg))/np.sum(np.isfinite(giop2_out_vals[:,3]*bayes_out_vals[:,3])))\n",
    "print('% wins',(0.05195+0.05195)/2)"
   ]
  },
  {
   "cell_type": "markdown",
   "metadata": {
    "tags": []
   },
   "source": [
    "### eta"
   ]
  },
  {
   "cell_type": "code",
   "execution_count": 43,
   "metadata": {},
   "outputs": [
    {
     "name": "stdout",
     "output_type": "stream",
     "text": [
      "3-variable stats\n",
      "Bias factor 0.7900544885701097\n",
      "MAE 1.3282746229496738\n",
      "% wins (1) 0.5581395348837209\n",
      "% wins (2) 0.873015873015873\n",
      "% wins 0.59823\n"
     ]
    }
   ],
   "source": [
    "print('3-variable stats')\n",
    "print('Bias factor',np.exp(np.nanmean(np.log(giop_out_eta)-np.log(all_eta))))\n",
    "print('MAE',np.exp(np.nanmean(np.abs(np.log(giop_out_eta)-np.log(all_eta)))))\n",
    "print('% wins (1)',np.sum(np.abs(giop_out_eta-all_eta)<np.abs(bayes_out_vals[:,4]-all_eta))/np.sum(np.isfinite(giop_out_eta*bayes_out_vals[:,4])))\n",
    "print('% wins (2)',np.sum(np.abs(giop_out_eta-all_eta)<np.abs(giop2_out_vals[:,4]-all_eta))/np.sum(np.isfinite(giop_out_eta*giop2_out_vals[:,4])))\n",
    "print('% wins',(0.43023+0.76623)/2)"
   ]
  },
  {
   "cell_type": "code",
   "execution_count": 44,
   "metadata": {},
   "outputs": [
    {
     "name": "stdout",
     "output_type": "stream",
     "text": [
      "bayesian stats\n",
      "Bias factor 0.7287424660474383\n",
      "MAE 1.4556309841256079\n",
      "% wins (1) 0.4418604651162791\n",
      "% wins (2) 0.873015873015873\n",
      "% wins 0.68099\n"
     ]
    },
    {
     "name": "stderr",
     "output_type": "stream",
     "text": [
      "/var/folders/qy/wmwmmxjn49vdd0lrh2vp44sm0002np/T/ipykernel_12178/1778049857.py:2: RuntimeWarning: invalid value encountered in log\n",
      "  print('Bias factor',np.exp(np.nanmean(np.log(bayes_out_vals[:,4])-np.log(all_eta))))\n",
      "/var/folders/qy/wmwmmxjn49vdd0lrh2vp44sm0002np/T/ipykernel_12178/1778049857.py:3: RuntimeWarning: invalid value encountered in log\n",
      "  print('MAE',np.exp(np.nanmean(np.abs(np.log(bayes_out_vals[:,4])-np.log(all_eta)))))\n"
     ]
    }
   ],
   "source": [
    "print('bayesian stats')\n",
    "print('Bias factor',np.exp(np.nanmean(np.log(bayes_out_vals[:,4])-np.log(all_eta))))\n",
    "print('MAE',np.exp(np.nanmean(np.abs(np.log(bayes_out_vals[:,4])-np.log(all_eta)))))\n",
    "print('% wins (1)',np.sum(np.abs(bayes_out_vals[:,4]-all_eta)<np.abs(giop_out_eta-all_eta))/np.sum(np.isfinite(bayes_out_vals[:,4]*giop_out_eta)))\n",
    "print('% wins (2)',np.sum(np.abs(bayes_out_vals[:,4]-all_eta)<np.abs(giop2_out_vals[:,4]-all_eta))/np.sum(np.isfinite(bayes_out_vals[:,4]*giop2_out_vals[:,4])))\n",
    "print('% wins',(0.56977+0.79221)/2)"
   ]
  },
  {
   "cell_type": "code",
   "execution_count": 45,
   "metadata": {},
   "outputs": [
    {
     "name": "stdout",
     "output_type": "stream",
     "text": [
      "5-variable stats\n",
      "Bias factor 1.0521459747235646\n",
      "MAE 2.1390978174541004\n",
      "% wins (1) 0.12698412698412698\n",
      "% wins (2) 0.12698412698412698\n",
      "% wins 0.22078\n"
     ]
    },
    {
     "name": "stderr",
     "output_type": "stream",
     "text": [
      "/var/folders/qy/wmwmmxjn49vdd0lrh2vp44sm0002np/T/ipykernel_12178/3252417619.py:2: RuntimeWarning: invalid value encountered in log\n",
      "  print('Bias factor',np.exp(np.nanmean(np.log(giop2_out_vals[:,4])-np.log(all_eta))))\n",
      "/var/folders/qy/wmwmmxjn49vdd0lrh2vp44sm0002np/T/ipykernel_12178/3252417619.py:3: RuntimeWarning: invalid value encountered in log\n",
      "  print('MAE',np.exp(np.nanmean(np.abs(np.log(giop2_out_vals[:,4])-np.log(all_eta)))))\n"
     ]
    }
   ],
   "source": [
    "print('5-variable stats')\n",
    "print('Bias factor',np.exp(np.nanmean(np.log(giop2_out_vals[:,4])-np.log(all_eta))))\n",
    "print('MAE',np.exp(np.nanmean(np.abs(np.log(giop2_out_vals[:,4])-np.log(all_eta)))))\n",
    "print('% wins (1)',np.sum(np.abs(giop2_out_vals[:,4]-all_eta)<np.abs(giop_out_eta-all_eta))/np.sum(np.isfinite(giop2_out_vals[:,4]*giop_out_eta)))\n",
    "print('% wins (2)',np.sum(np.abs(giop2_out_vals[:,4]-all_eta)<np.abs(bayes_out_vals[:,4]-all_eta))/np.sum(np.isfinite(giop2_out_vals[:,4]*bayes_out_vals[:,4])))\n",
    "print('% wins',(0.23377+0.20779)/2)"
   ]
  }
 ],
 "metadata": {
  "kernelspec": {
   "display_name": "Python 3 (ipykernel)",
   "language": "python",
   "name": "python3"
  },
  "language_info": {
   "codemirror_mode": {
    "name": "ipython",
    "version": 3
   },
   "file_extension": ".py",
   "mimetype": "text/x-python",
   "name": "python",
   "nbconvert_exporter": "python",
   "pygments_lexer": "ipython3",
   "version": "3.9.7"
  }
 },
 "nbformat": 4,
 "nbformat_minor": 4
}
